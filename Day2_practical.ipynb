{
  "nbformat": 4,
  "nbformat_minor": 0,
  "metadata": {
    "colab": {
      "name": "Day2_practical.ipynb",
      "provenance": [],
      "collapsed_sections": [],
      "include_colab_link": true
    },
    "kernelspec": {
      "name": "python3",
      "display_name": "Python 3"
    },
    "language_info": {
      "name": "python"
    }
  },
  "cells": [
    {
      "cell_type": "markdown",
      "metadata": {
        "id": "view-in-github",
        "colab_type": "text"
      },
      "source": [
        "<a href=\"https://colab.research.google.com/github/suhaassanga/2216114_AIML_BootCamp/blob/Suhaas-Sanga/Day2_practical.ipynb\" target=\"_parent\"><img src=\"https://colab.research.google.com/assets/colab-badge.svg\" alt=\"Open In Colab\"/></a>"
      ]
    },
    {
      "cell_type": "markdown",
      "source": [
        "\n",
        "DAY- 02\n",
        "\n"
      ],
      "metadata": {
        "id": "M2nTuYVzriNH"
      }
    },
    {
      "cell_type": "code",
      "execution_count": 3,
      "metadata": {
        "colab": {
          "base_uri": "https://localhost:8080/"
        },
        "id": "NoeB-WlCeHfG",
        "outputId": "1fea3fa3-da9f-4f02-ba57-21d47a94d122"
      },
      "outputs": [
        {
          "output_type": "stream",
          "name": "stdout",
          "text": [
            "a>99\n",
            "999\n"
          ]
        }
      ],
      "source": [
        "#if loop\n",
        "a=999\n",
        "if a>99:\n",
        "  print(\"a>99\")\n",
        "  print(a)\n",
        "  "
      ]
    },
    {
      "cell_type": "code",
      "source": [
        "#if else statements\n",
        "a=int(input(\"ENTER NUMBER: \"))\n",
        "if a>0:\n",
        "  print(\"a is +ve\")\n",
        "  print(a)\n",
        "else:\n",
        "  print(\"a is -ve\")\n",
        "  print(a)"
      ],
      "metadata": {
        "colab": {
          "base_uri": "https://localhost:8080/"
        },
        "id": "G3xmgOFYhnNE",
        "outputId": "e5c0d75a-915f-406a-e41e-d70745760896"
      },
      "execution_count": 5,
      "outputs": [
        {
          "output_type": "stream",
          "name": "stdout",
          "text": [
            "ENTER NUMBER: 30\n",
            "a is +ve\n",
            "30\n"
          ]
        }
      ]
    },
    {
      "cell_type": "code",
      "source": [
        "#nested if statements\n",
        "n = int(input(\"ENTER NUMBER: \"))\n",
        "if n < 200:\n",
        "   print(\"numb is < 200\")\n",
        "   if n == 150:\n",
        "      print (\"Which is 150\")\n",
        "   elif n == 100:\n",
        "      print (\"numb=100\")\n",
        "   elif n == 50:\n",
        "      print (\"numb=50\")\n",
        "   elif n < 50:\n",
        "      print(\"numb<50\")\n",
        "else:\n",
        "   print(\" \")"
      ],
      "metadata": {
        "colab": {
          "base_uri": "https://localhost:8080/"
        },
        "id": "jjUBoMcXiKGn",
        "outputId": "dd8f69f0-1696-4f06-a0d5-cadbd41da8c0"
      },
      "execution_count": 9,
      "outputs": [
        {
          "output_type": "stream",
          "name": "stdout",
          "text": [
            "ENTER NUMBER: 199\n",
            "numb is < 200\n"
          ]
        }
      ]
    },
    {
      "cell_type": "code",
      "source": [
        "# for loop \n",
        "digit=[0,1,5]\n",
        "for i in digit:\n",
        "  print(i)\n",
        "else:\n",
        "  print(\"no digits\")\n",
        "print(\"\\n\")\n",
        "for l in \"SUHAAS\":\n",
        "  print(\"STR :\",l)"
      ],
      "metadata": {
        "colab": {
          "base_uri": "https://localhost:8080/"
        },
        "id": "UFLou-eWlDoV",
        "outputId": "ab70c85b-d619-4aad-991b-3c5be72ada05"
      },
      "execution_count": 13,
      "outputs": [
        {
          "output_type": "stream",
          "name": "stdout",
          "text": [
            "0\n",
            "1\n",
            "5\n",
            "no digits\n",
            "\n",
            "\n",
            "STR : S\n",
            "STR : U\n",
            "STR : H\n",
            "STR : A\n",
            "STR : A\n",
            "STR : S\n"
          ]
        }
      ]
    },
    {
      "cell_type": "code",
      "source": [
        "#for loop \n",
        "num=[99,88,77,66,55,44,33,22,11]\n",
        "sum=0\n",
        "for val in num:\n",
        "  sum+=val;\n",
        "print(\"The sum is =\",sum)\n",
        "print(\"\\n\")\n",
        "for i in range(1,10):\n",
        "  print(i)\n",
        "print(\"\\n\")\n",
        "for i in range(1,10,2):\n",
        "  print(i)\n",
        "\n",
        "print(\"\\n\")\n",
        "x=[99,88,77,33,22,11,66]\n",
        "y=[]\n",
        "for a in x:\n",
        "  if a%2==0:\n",
        "    y.append(a)\n",
        "print(y)"
      ],
      "metadata": {
        "colab": {
          "base_uri": "https://localhost:8080/"
        },
        "id": "CJ7nV75SjrMh",
        "outputId": "e921f1e3-7375-4731-d94c-2b1d8720f1cc"
      },
      "execution_count": 10,
      "outputs": [
        {
          "output_type": "stream",
          "name": "stdout",
          "text": [
            "The sum is = 495\n",
            "\n",
            "\n",
            "1\n",
            "2\n",
            "3\n",
            "4\n",
            "5\n",
            "6\n",
            "7\n",
            "8\n",
            "9\n",
            "\n",
            "\n",
            "1\n",
            "3\n",
            "5\n",
            "7\n",
            "9\n",
            "\n",
            "\n",
            "[88, 22, 66]\n"
          ]
        }
      ]
    },
    {
      "cell_type": "code",
      "source": [
        "#Sequence indexing iteration\n",
        "fruit=['apple','banana','grapes']\n",
        "for index in range(len(fruit)):\n",
        "  print(\"fruit: \",fruit[index])"
      ],
      "metadata": {
        "colab": {
          "base_uri": "https://localhost:8080/"
        },
        "id": "bPXMbTSBmW45",
        "outputId": "d6b273c9-d491-4bf8-addb-684bfdd31822"
      },
      "execution_count": 14,
      "outputs": [
        {
          "output_type": "stream",
          "name": "stdout",
          "text": [
            "fruit:  apple\n",
            "fruit:  banana\n",
            "fruit:  grapes\n"
          ]
        }
      ]
    },
    {
      "cell_type": "code",
      "source": [
        "#while loop\n",
        "a=1\n",
        "while a<=99:\n",
        "  print(a)\n",
        "  a+=1\n",
        "print(\"\\n\")\n",
        "a=0\n",
        "while a<5:\n",
        "  print(a,\"is < 5\")\n",
        "  a+=1\n",
        "else:\n",
        "  print(a,\"!< 5\")"
      ],
      "metadata": {
        "colab": {
          "base_uri": "https://localhost:8080/"
        },
        "id": "rtrFimWVnkXT",
        "outputId": "6f6e78ef-508a-45a2-e866-c476564b5280"
      },
      "execution_count": 17,
      "outputs": [
        {
          "output_type": "stream",
          "name": "stdout",
          "text": [
            "1\n",
            "2\n",
            "3\n",
            "4\n",
            "5\n",
            "6\n",
            "7\n",
            "8\n",
            "9\n",
            "10\n",
            "11\n",
            "12\n",
            "13\n",
            "14\n",
            "15\n",
            "16\n",
            "17\n",
            "18\n",
            "19\n",
            "20\n",
            "21\n",
            "22\n",
            "23\n",
            "24\n",
            "25\n",
            "26\n",
            "27\n",
            "28\n",
            "29\n",
            "30\n",
            "31\n",
            "32\n",
            "33\n",
            "34\n",
            "35\n",
            "36\n",
            "37\n",
            "38\n",
            "39\n",
            "40\n",
            "41\n",
            "42\n",
            "43\n",
            "44\n",
            "45\n",
            "46\n",
            "47\n",
            "48\n",
            "49\n",
            "50\n",
            "51\n",
            "52\n",
            "53\n",
            "54\n",
            "55\n",
            "56\n",
            "57\n",
            "58\n",
            "59\n",
            "60\n",
            "61\n",
            "62\n",
            "63\n",
            "64\n",
            "65\n",
            "66\n",
            "67\n",
            "68\n",
            "69\n",
            "70\n",
            "71\n",
            "72\n",
            "73\n",
            "74\n",
            "75\n",
            "76\n",
            "77\n",
            "78\n",
            "79\n",
            "80\n",
            "81\n",
            "82\n",
            "83\n",
            "84\n",
            "85\n",
            "86\n",
            "87\n",
            "88\n",
            "89\n",
            "90\n",
            "91\n",
            "92\n",
            "93\n",
            "94\n",
            "95\n",
            "96\n",
            "97\n",
            "98\n",
            "99\n",
            "\n",
            "\n",
            "0 is < 5\n",
            "1 is < 5\n",
            "2 is < 5\n",
            "3 is < 5\n",
            "4 is < 5\n",
            "5 !< 5\n"
          ]
        }
      ]
    },
    {
      "cell_type": "code",
      "source": [
        "#printing multiplication tables using while loop\n",
        "n=int(input(\"ENTER VALUE OF N TO PRINT UPTO N: \"))\n",
        "i=1\n",
        "while(i<=n):\n",
        "  j=1\n",
        "  while(j<=10):\n",
        "    print(f\"{i}*{j}={i*j}\")\n",
        "    j+=1\n",
        "  print(\"................................................................................................\")\n",
        "  i+=1"
      ],
      "metadata": {
        "colab": {
          "base_uri": "https://localhost:8080/"
        },
        "id": "9TfirjwlsdS9",
        "outputId": "60623e80-732f-4540-9352-307caa18f81a"
      },
      "execution_count": 22,
      "outputs": [
        {
          "output_type": "stream",
          "name": "stdout",
          "text": [
            "ENTER VALUE OF N TO PRINT UPTO N: 5\n",
            "1*1=1\n",
            "1*2=2\n",
            "1*3=3\n",
            "1*4=4\n",
            "1*5=5\n",
            "1*6=6\n",
            "1*7=7\n",
            "1*8=8\n",
            "1*9=9\n",
            "1*10=10\n",
            "................................................................................................\n",
            "2*1=2\n",
            "2*2=4\n",
            "2*3=6\n",
            "2*4=8\n",
            "2*5=10\n",
            "2*6=12\n",
            "2*7=14\n",
            "2*8=16\n",
            "2*9=18\n",
            "2*10=20\n",
            "................................................................................................\n",
            "3*1=3\n",
            "3*2=6\n",
            "3*3=9\n",
            "3*4=12\n",
            "3*5=15\n",
            "3*6=18\n",
            "3*7=21\n",
            "3*8=24\n",
            "3*9=27\n",
            "3*10=30\n",
            "................................................................................................\n",
            "4*1=4\n",
            "4*2=8\n",
            "4*3=12\n",
            "4*4=16\n",
            "4*5=20\n",
            "4*6=24\n",
            "4*7=28\n",
            "4*8=32\n",
            "4*9=36\n",
            "4*10=40\n",
            "................................................................................................\n",
            "5*1=5\n",
            "5*2=10\n",
            "5*3=15\n",
            "5*4=20\n",
            "5*5=25\n",
            "5*6=30\n",
            "5*7=35\n",
            "5*8=40\n",
            "5*9=45\n",
            "5*10=50\n",
            "................................................................................................\n"
          ]
        }
      ]
    },
    {
      "cell_type": "code",
      "source": [
        "#Control block statements\n",
        "#break statement\n",
        "for l in 'SUHAAS':\n",
        "  if l=='U':\n",
        "    break\n",
        "  print(\"Letter:\",l)\n",
        "print(\"\\n\")\n",
        "i=10\n",
        "while(i>0):\n",
        "  print(\"Position:\",i)\n",
        "  i=i-1\n",
        "  if i==5:\n",
        "    break"
      ],
      "metadata": {
        "colab": {
          "base_uri": "https://localhost:8080/"
        },
        "id": "dwfvNHuFuen-",
        "outputId": "2eea1240-cbe8-4239-a588-5085a2e6b53c"
      },
      "execution_count": 25,
      "outputs": [
        {
          "output_type": "stream",
          "name": "stdout",
          "text": [
            "Letter: S\n",
            "\n",
            "\n",
            "Position: 10\n",
            "Position: 9\n",
            "Position: 8\n",
            "Position: 7\n",
            "Position: 6\n"
          ]
        }
      ]
    },
    {
      "cell_type": "code",
      "source": [
        "#continue statement\n",
        "for l in 'SUHAAS':\n",
        "  if l=='h':\n",
        "    continue\n",
        "  print(\"letter:\",l)\n",
        "i=10\n",
        "while(i>0):\n",
        "  print(\"current value:\",i)\n",
        "  i=i-1\n",
        "  if i==5:\n",
        "    continue\n",
        "\n"
      ],
      "metadata": {
        "colab": {
          "base_uri": "https://localhost:8080/"
        },
        "id": "tCWg-xbj3l-u",
        "outputId": "8789a707-68d5-4d95-dcc4-7b65f4ede2e7"
      },
      "execution_count": 26,
      "outputs": [
        {
          "output_type": "stream",
          "name": "stdout",
          "text": [
            "letter: S\n",
            "letter: U\n",
            "letter: H\n",
            "letter: A\n",
            "letter: A\n",
            "letter: S\n",
            "current value: 10\n",
            "current value: 9\n",
            "current value: 8\n",
            "current value: 7\n",
            "current value: 6\n",
            "current value: 5\n",
            "current value: 4\n",
            "current value: 3\n",
            "current value: 2\n",
            "current value: 1\n"
          ]
        }
      ]
    },
    {
      "cell_type": "code",
      "source": [
        "#pass argument\n",
        "for l in 'SUHAAS':\n",
        "  if l=='U':\n",
        "    pass\n",
        "  print(\"PASS\")\n",
        "  print(\"letter:\",l)\n",
        "print(\"\\n\")\n",
        "i=10\n",
        "while(i>0):\n",
        "  print(\"position:\",i)\n",
        "  i=i-1\n",
        "  if i==5:\n",
        "    print(\"PASS\")"
      ],
      "metadata": {
        "colab": {
          "base_uri": "https://localhost:8080/"
        },
        "id": "195TyfjP4g_v",
        "outputId": "601c2f3f-6f44-4324-9a7c-f966374d9b34"
      },
      "execution_count": 29,
      "outputs": [
        {
          "output_type": "stream",
          "name": "stdout",
          "text": [
            "PASS\n",
            "letter: S\n",
            "PASS\n",
            "letter: U\n",
            "PASS\n",
            "letter: H\n",
            "PASS\n",
            "letter: A\n",
            "PASS\n",
            "letter: A\n",
            "PASS\n",
            "letter: S\n",
            "\n",
            "\n",
            "position: 10\n",
            "position: 9\n",
            "position: 8\n",
            "position: 7\n",
            "position: 6\n",
            "PASS\n",
            "position: 5\n",
            "position: 4\n",
            "position: 3\n",
            "position: 2\n",
            "position: 1\n"
          ]
        }
      ]
    },
    {
      "cell_type": "code",
      "source": [
        "#Palindrome string:\n",
        "str1=input(\"Enter a string: \")\n",
        "if(str1==str1[::-1]):\n",
        "  print(\"\\npalindrome\")\n",
        "else:\n",
        "  print(\"not a palindrome\")"
      ],
      "metadata": {
        "colab": {
          "base_uri": "https://localhost:8080/"
        },
        "id": "_2ZMoPUE41Wj",
        "outputId": "1633175b-8f20-44b7-ff58-f81e9c59339a"
      },
      "execution_count": 31,
      "outputs": [
        {
          "output_type": "stream",
          "name": "stdout",
          "text": [
            "Enter a string: MADAM\n",
            "\n",
            "palindrome\n"
          ]
        }
      ]
    },
    {
      "cell_type": "code",
      "source": [
        "#Printing even numbers in a string:\n",
        "list=[99,88,77,66,55,44,33,22,11]\n",
        "for i in range(len(list)):\n",
        "  if(list[i]%2==0):\n",
        "    print(list[i])"
      ],
      "metadata": {
        "colab": {
          "base_uri": "https://localhost:8080/"
        },
        "id": "b0F4wTOv8H6L",
        "outputId": "fbf7dfbf-17da-4022-9734-e1b6c81b26ca"
      },
      "execution_count": 33,
      "outputs": [
        {
          "output_type": "stream",
          "name": "stdout",
          "text": [
            "88\n",
            "66\n",
            "44\n",
            "22\n"
          ]
        }
      ]
    },
    {
      "cell_type": "markdown",
      "source": [
        "Write a python program that generates desired output i.e, from countries list select out the country names that contain string “and”\n",
        "\n",
        "\n",
        "Countries_list=[“Finland”,”Germany”,”Sweden”,”Ireland”,”Turkey”]\n",
        "\n",
        "Output: [“Finland”,”Ireland”]\n",
        "\n"
      ],
      "metadata": {
        "id": "Xzs5SQ3yAjqP"
      }
    },
    {
      "cell_type": "code",
      "source": [
        "Countries_list=[\"Finland\",\"Germany\",\"Sweden\",\"Ireland\",\"Turkey\"]\n",
        "l=[]\n",
        "for i in Countries_list:\n",
        "  if (\"and\" in i):\n",
        "    l.append(i)\n",
        "print(l)"
      ],
      "metadata": {
        "colab": {
          "base_uri": "https://localhost:8080/"
        },
        "id": "FiCG9u08-TAU",
        "outputId": "96a7e58b-92cc-4bc5-e1db-9ac2f8652095"
      },
      "execution_count": 34,
      "outputs": [
        {
          "output_type": "stream",
          "name": "stdout",
          "text": [
            "['Finland', 'Ireland']\n"
          ]
        }
      ]
    },
    {
      "cell_type": "markdown",
      "source": [
        "Write a python program that print respective grades of student:Grade – Outstanding  for marks>=90Grade A+ for marks >=80, <90Grade A for marks >=70, <80Grade B for marks >=60 and <70<60 Grade C"
      ],
      "metadata": {
        "id": "DRcxrxJvBeYy"
      }
    },
    {
      "cell_type": "code",
      "source": [
        "marks=int(input(\"Enter your marks=\"))\n",
        "if(marks>=90):\n",
        "  print(\"outstanding\")\n",
        "elif(marks >=80 & marks<90):\n",
        "  print(\"grade A+\")\n",
        "elif( marks >=70and marks<90):\n",
        "  print(\"grade A\")\n",
        "elif( marks >=60and marks<90):\n",
        "  print(\"garde B\")\n",
        "else:\n",
        "  print(\"garde C\")\n"
      ],
      "metadata": {
        "colab": {
          "base_uri": "https://localhost:8080/"
        },
        "id": "siHwlw1DBdXV",
        "outputId": "e4bb9a7c-32ea-4de7-fbf1-3702c0c15989"
      },
      "execution_count": 46,
      "outputs": [
        {
          "output_type": "stream",
          "name": "stdout",
          "text": [
            "Enter your marks=90\n",
            "outstanding\n"
          ]
        }
      ]
    },
    {
      "cell_type": "markdown",
      "source": [
        "Create a list with name state list with 5 elements\n",
        "State_list = [“Delhi”,”Telangana”,”Goa”,”AP”,”Kerala”]\n",
        "\n",
        "Write a python program that extract first and last characters of each item and print in desired format.\n",
        "\n",
        "Input: [“Delhi”,”Telangana”,”Goa”,”AP”,”Kerala”]\n",
        "\n",
        "Output: dItAgAaOkA"
      ],
      "metadata": {
        "id": "5_dSyqnEE6P5"
      }
    },
    {
      "cell_type": "code",
      "source": [
        "list1= [\"Delhi\",\"Telangana\",\"Goa\",\"AP\",\"Kerala\"]\n",
        "for i in range(len(list1)):\n",
        "  str33=list1[i][0]\n",
        "  str22=list1[i][-1] \n",
        "  print((str33+str22).swapcase())"
      ],
      "metadata": {
        "colab": {
          "base_uri": "https://localhost:8080/"
        },
        "id": "n8Kf0l9VD7H6",
        "outputId": "ac55d89c-fef8-49c7-dfbc-1b8abe061c73"
      },
      "execution_count": null,
      "outputs": [
        {
          "output_type": "stream",
          "name": "stdout",
          "text": [
            "dI\n",
            "tA\n",
            "gA\n",
            "ap\n",
            "kA\n"
          ]
        }
      ]
    },
    {
      "cell_type": "code",
      "source": [
        "#user defined functions\n",
        "def greet(name):\n",
        "  print(\"Hello,\\t\"+name+\"\\tSR UNIVERSITY\")\n",
        "greet(\"SUHAAS SANGA\")"
      ],
      "metadata": {
        "colab": {
          "base_uri": "https://localhost:8080/"
        },
        "id": "9hRe-FBTF0qA",
        "outputId": "fcee1405-66c4-45f4-fa37-02d6bdf53320"
      },
      "execution_count": 45,
      "outputs": [
        {
          "output_type": "stream",
          "name": "stdout",
          "text": [
            "Hello,\tSUHAAS SANGA\tSR UNIVERSITY\n"
          ]
        }
      ]
    },
    {
      "cell_type": "code",
      "source": [
        "def A(a,b=1,c=2):\n",
        "  return a+b+c\n",
        "print(A(3))\n",
        "print(A(4,4,4))\n",
        "print(A(2,2))"
      ],
      "metadata": {
        "colab": {
          "base_uri": "https://localhost:8080/"
        },
        "id": "jZs-JGCobWBR",
        "outputId": "1fde01e2-5523-4be3-b0ce-eda74d5dbfd8"
      },
      "execution_count": null,
      "outputs": [
        {
          "output_type": "stream",
          "name": "stdout",
          "text": [
            "6\n",
            "12\n",
            "6\n"
          ]
        }
      ]
    },
    {
      "cell_type": "code",
      "source": [
        "#keyword\n",
        "def A(a,b=1,c=2):\n",
        "  return a+b+c\n",
        "print(A(a=2,b=3))\n",
        "print(A(c=3,b=2,a=1))"
      ],
      "metadata": {
        "colab": {
          "base_uri": "https://localhost:8080/"
        },
        "id": "PDreq9Mybxj7",
        "outputId": "30ea558f-2d4c-451c-9837-81d6264d6ce1"
      },
      "execution_count": null,
      "outputs": [
        {
          "output_type": "stream",
          "name": "stdout",
          "text": [
            "7\n",
            "6\n"
          ]
        }
      ]
    },
    {
      "cell_type": "code",
      "source": [
        "#position\n",
        "def add(a,b,c):\n",
        "  return a+b+c\n",
        "print(add(10,20,30))\n",
        "print(add(10,b=20,c=30))"
      ],
      "metadata": {
        "colab": {
          "base_uri": "https://localhost:8080/"
        },
        "id": "XvapsNmhcTGI",
        "outputId": "1bc0d49f-9c1f-4cf0-ae6b-37c5e6d08898"
      },
      "execution_count": null,
      "outputs": [
        {
          "output_type": "stream",
          "name": "stdout",
          "text": [
            "60\n",
            "60\n"
          ]
        }
      ]
    },
    {
      "cell_type": "code",
      "source": [
        "#arbitrary keyword\n",
        "def key_arg(**kwargs):\n",
        "  return kwargs\n",
        "dict1=key_arg(Apples=99,oranges=88,grapes=77)\n",
        "print(dict1['Apples'])\n",
        "print(dict1)"
      ],
      "metadata": {
        "colab": {
          "base_uri": "https://localhost:8080/"
        },
        "id": "mpwJ00aAcfX4",
        "outputId": "8d8a3cd9-5ca5-4ad7-e7a3-5fc706399469"
      },
      "execution_count": 42,
      "outputs": [
        {
          "output_type": "stream",
          "name": "stdout",
          "text": [
            "99\n",
            "{'Apples': 99, 'oranges': 88, 'grapes': 77}\n"
          ]
        }
      ]
    },
    {
      "cell_type": "code",
      "source": [
        "#higher order functions\n",
        "def shout(text):\n",
        "  return text.upper()\n",
        "def whisper(text):\n",
        "  return text.lower()\n",
        "def explain(func):\n",
        "  greet=func(\"I AM AN HIGHER ORDER FUNCTION\")\n",
        "  print(greet)\n",
        "explain(shout)\n",
        "explain(whisper)"
      ],
      "metadata": {
        "colab": {
          "base_uri": "https://localhost:8080/"
        },
        "id": "qV-giau5dwrn",
        "outputId": "4419eedd-3ce0-42e3-88e5-f37bcb221e5b"
      },
      "execution_count": 40,
      "outputs": [
        {
          "output_type": "stream",
          "name": "stdout",
          "text": [
            "I AM AN HIGHER ORDER FUNCTION\n",
            "i am an higher order function\n"
          ]
        }
      ]
    },
    {
      "cell_type": "code",
      "source": [
        "#lambda\n",
        "def incr(x):\n",
        "  x+=1\n",
        "  return x\n",
        "print(incr(99))\n",
        "print((lambda x:x+1)(99))\n",
        "res=lambda x:x+1\n",
        "print(res(99))"
      ],
      "metadata": {
        "colab": {
          "base_uri": "https://localhost:8080/"
        },
        "id": "YW30LlNdflNH",
        "outputId": "dbae96aa-3450-44a7-ac59-f3fed8a8ada6"
      },
      "execution_count": 50,
      "outputs": [
        {
          "output_type": "stream",
          "name": "stdout",
          "text": [
            "100\n",
            "100\n",
            "100\n"
          ]
        }
      ]
    },
    {
      "cell_type": "code",
      "source": [
        "print((lambda x,y:x**y)(2,2))\n",
        "print((lambda x,y:x+y)(2,3))\n",
        "res=lambda x,y:x*y\n",
        "print(res(2,3))"
      ],
      "metadata": {
        "colab": {
          "base_uri": "https://localhost:8080/"
        },
        "id": "h3RfpbL6fLXZ",
        "outputId": "c312c278-d6da-4a2f-fbe4-e12841b225f6"
      },
      "execution_count": 38,
      "outputs": [
        {
          "output_type": "stream",
          "name": "stdout",
          "text": [
            "4\n",
            "5\n",
            "6\n"
          ]
        }
      ]
    },
    {
      "cell_type": "code",
      "source": [
        "def inc(num):\n",
        "  return num+2\n",
        "res_list=list(map(inc,li))\n",
        "print(res_list)\n",
        "\n",
        "\n",
        "res_list1=list(map(lambda x:x+2,li))\n",
        "print(res_list1)\n",
        "\n",
        "\n",
        "print(list(map(lambda x:x+2,li)))"
      ],
      "metadata": {
        "colab": {
          "base_uri": "https://localhost:8080/"
        },
        "id": "pF_3jwb2hEmF",
        "outputId": "62cf916c-8e63-44d4-98ca-b68257a87a7f"
      },
      "execution_count": null,
      "outputs": [
        {
          "output_type": "stream",
          "name": "stdout",
          "text": [
            "[3, 4, 5, 6, 7]\n",
            "[3, 4, 5, 6, 7]\n",
            "[3, 4, 5, 6, 7]\n"
          ]
        }
      ]
    },
    {
      "cell_type": "code",
      "source": [
        "def eod(num):\n",
        "  if num%2==0 :\n",
        "    return \"The number {} is even\".format(num)\n",
        "  else :\n",
        "    return \"The number {} is odd\".format(num)\n",
        "eod(20)\n",
        "\n",
        "li1=[1,2,3,4,5,6,7,8,9,10]\n",
        "list(map(eod,li1))"
      ],
      "metadata": {
        "colab": {
          "base_uri": "https://localhost:8080/"
        },
        "id": "JmTnFqythb4X",
        "outputId": "33199c52-ef89-4b5f-ae74-1b71c66f2471"
      },
      "execution_count": null,
      "outputs": [
        {
          "output_type": "execute_result",
          "data": {
            "text/plain": [
              "['The number 1 is odd',\n",
              " 'The number 2 is even',\n",
              " 'The number 3 is odd',\n",
              " 'The number 4 is even',\n",
              " 'The number 5 is odd',\n",
              " 'The number 6 is even',\n",
              " 'The number 7 is odd',\n",
              " 'The number 8 is even',\n",
              " 'The number 9 is odd',\n",
              " 'The number 10 is even']"
            ]
          },
          "metadata": {},
          "execution_count": 113
        }
      ]
    },
    {
      "cell_type": "code",
      "source": [
        "li2=['apple','banana','grapes']\n",
        "res=list(map(lambda x:x.capitalize(),li2))\n",
        "print(res)"
      ],
      "metadata": {
        "colab": {
          "base_uri": "https://localhost:8080/"
        },
        "id": "VQWyJ5pLiPIl",
        "outputId": "3f65763b-4e77-40c2-815c-0669ca23b1c1"
      },
      "execution_count": null,
      "outputs": [
        {
          "output_type": "stream",
          "name": "stdout",
          "text": [
            "['Apple', 'Banana', 'Grapes']\n"
          ]
        }
      ]
    },
    {
      "cell_type": "code",
      "source": [
        "#filter\n",
        "def odd_num(n):\n",
        "  if(n%2!=0):\n",
        "    return n\n",
        "li3=[9,26,35,-2,50]\n",
        "print(list(filter(odd_num,li3)))"
      ],
      "metadata": {
        "colab": {
          "base_uri": "https://localhost:8080/"
        },
        "id": "lT1uxy4HjR20",
        "outputId": "59ee5911-af87-4239-ff29-d4f5c773ede3"
      },
      "execution_count": null,
      "outputs": [
        {
          "output_type": "stream",
          "name": "stdout",
          "text": [
            "[9, 35]\n"
          ]
        }
      ]
    },
    {
      "cell_type": "code",
      "source": [
        "li4=[18,94,33,16,99,22,56,107,34]\n",
        "temp=list(filter(lambda x:x%2==0,li4))\n",
        "print(temp)"
      ],
      "metadata": {
        "colab": {
          "base_uri": "https://localhost:8080/"
        },
        "id": "RlaetCBEkrph",
        "outputId": "7d07b69a-05bb-4ae4-d3da-be84ffc8ab1f"
      },
      "execution_count": null,
      "outputs": [
        {
          "output_type": "stream",
          "name": "stdout",
          "text": [
            "[18, 94, 16, 22, 56, 34]\n"
          ]
        }
      ]
    },
    {
      "cell_type": "code",
      "source": [
        "#modules\n",
        "import os\n",
        "os.mkdir(\"hi\")\n",
        "os.chdir(\"hi\")\n",
        "os.getcwd()\n",
        "os.listdir()\n",
        "os.rmdir(\"/content/hi\")"
      ],
      "metadata": {
        "id": "rhlI8_4jlRnw"
      },
      "execution_count": 53,
      "outputs": []
    },
    {
      "cell_type": "code",
      "source": [
        "#math module\n",
        "import math as m\n",
        "print(m.e)\n",
        "print(m.pi)\n",
        "print(m.sqrt(999))\n",
        "print(m.factorial(99))\n",
        "print(m.pow(2,2))\n",
        "print(m.floor(99.6))\n",
        "print(m.tan(99))\n",
        "print(m.log(99))"
      ],
      "metadata": {
        "colab": {
          "base_uri": "https://localhost:8080/"
        },
        "id": "5bJD9LBrrDqI",
        "outputId": "11979035-57c1-4dfe-afd1-af3a9b3967e4"
      },
      "execution_count": 60,
      "outputs": [
        {
          "output_type": "stream",
          "name": "stdout",
          "text": [
            "2.718281828459045\n",
            "3.141592653589793\n",
            "31.606961258558215\n",
            "933262154439441526816992388562667004907159682643816214685929638952175999932299156089414639761565182862536979208272237582511852109168640000000000000000000000\n",
            "4.0\n",
            "99\n",
            "-25.092534979676547\n",
            "4.59511985013459\n"
          ]
        }
      ]
    },
    {
      "cell_type": "code",
      "source": [
        "#sys module\n",
        "import sys\n",
        "print(sys.path)\n",
        "print(sys.version)\n",
        "print(sys.maxsize)"
      ],
      "metadata": {
        "colab": {
          "base_uri": "https://localhost:8080/"
        },
        "id": "v0ZazoG9ruYR",
        "outputId": "a0f48a67-49e6-4f87-b1e5-a958cc041c56"
      },
      "execution_count": 61,
      "outputs": [
        {
          "output_type": "stream",
          "name": "stdout",
          "text": [
            "['', '/content', '/env/python', '/usr/lib/python37.zip', '/usr/lib/python3.7', '/usr/lib/python3.7/lib-dynload', '/usr/local/lib/python3.7/dist-packages', '/usr/lib/python3/dist-packages', '/usr/local/lib/python3.7/dist-packages/IPython/extensions', '/root/.ipython']\n",
            "3.7.13 (default, Apr 24 2022, 01:04:09) \n",
            "[GCC 7.5.0]\n",
            "9223372036854775807\n"
          ]
        }
      ]
    },
    {
      "cell_type": "code",
      "source": [
        "#statistics module\n",
        "import statistics as st\n",
        "print(st.mean([21,29,34]))\n",
        "print(st.median([1,2,3,4,5]))\n",
        "print(st.mode([1,2,3,1,1]))"
      ],
      "metadata": {
        "colab": {
          "base_uri": "https://localhost:8080/"
        },
        "id": "M5LMJLbSsG7o",
        "outputId": "896f6645-077d-4f9c-b8bb-d832d72cc915"
      },
      "execution_count": 62,
      "outputs": [
        {
          "output_type": "stream",
          "name": "stdout",
          "text": [
            "28\n",
            "3\n",
            "1\n"
          ]
        }
      ]
    },
    {
      "cell_type": "code",
      "source": [
        "#time module\n",
        "import time\n",
        "print(time.time())\n",
        "print(time.localtime())\n",
        "print(time.asctime())\n",
        "print(time.ctime())\n",
        "print(time.sleep(1.5))"
      ],
      "metadata": {
        "colab": {
          "base_uri": "https://localhost:8080/"
        },
        "id": "M7O12P5ns2cx",
        "outputId": "41c3c615-0e6c-4818-e71a-f6febb078125"
      },
      "execution_count": 63,
      "outputs": [
        {
          "output_type": "stream",
          "name": "stdout",
          "text": [
            "1655217656.9326565\n",
            "time.struct_time(tm_year=2022, tm_mon=6, tm_mday=14, tm_hour=14, tm_min=40, tm_sec=56, tm_wday=1, tm_yday=165, tm_isdst=0)\n",
            "Tue Jun 14 14:40:56 2022\n",
            "Tue Jun 14 14:40:56 2022\n",
            "None\n"
          ]
        }
      ]
    },
    {
      "cell_type": "code",
      "source": [
        "#random module\n",
        "import random  as r\n",
        "print(r.randrange(1,50))\n",
        "print(r.randint(1,100))\n",
        "print(r.random())"
      ],
      "metadata": {
        "colab": {
          "base_uri": "https://localhost:8080/"
        },
        "id": "6WTNzdTXtNys",
        "outputId": "df2a0d26-bb72-4eb2-ca11-4b3f7ba22764"
      },
      "execution_count": 64,
      "outputs": [
        {
          "output_type": "stream",
          "name": "stdout",
          "text": [
            "13\n",
            "2\n",
            "0.9206876516662915\n"
          ]
        }
      ]
    },
    {
      "cell_type": "code",
      "source": [
        "import random as r\n",
        "g_num=r.randint(0,5)\n",
        "g1_num=int(input(\"Enter a number=\"))\n",
        "if g1_num==g_num :\n",
        "  print(\"you won\")\n",
        "else :\n",
        "  print(\"you lost\") "
      ],
      "metadata": {
        "colab": {
          "base_uri": "https://localhost:8080/"
        },
        "id": "98tgW74jthu8",
        "outputId": "7590c754-5349-4eab-9934-31704e2c929d"
      },
      "execution_count": 66,
      "outputs": [
        {
          "output_type": "stream",
          "name": "stdout",
          "text": [
            "Enter a number=999\n",
            "you lost\n"
          ]
        }
      ]
    },
    {
      "cell_type": "markdown",
      "source": [
        "Write a python program that remove items that are multiples of 5 from list:li=[1,2,5,6,7,10,15,25,65,78,90]o/p: [1,2,6,7,78]\n",
        "\n"
      ],
      "metadata": {
        "id": "df3LaGkp1iKv"
      }
    },
    {
      "cell_type": "code",
      "source": [
        "li=[1,2,5,6,7,10,15,25,65,78,90]\n",
        "res=list(filter(lambda x:x%5!=0,li))\n",
        "print(res)"
      ],
      "metadata": {
        "colab": {
          "base_uri": "https://localhost:8080/",
          "height": 784
        },
        "id": "PqFTczqH1L8J",
        "outputId": "f0f19843-1d5c-4acb-9849-f8859506d4f1"
      },
      "execution_count": 67,
      "outputs": [
        {
          "output_type": "stream",
          "name": "stderr",
          "text": [
            "ERROR:root:Internal Python error in the inspect module.\n",
            "Below is the traceback from this internal error.\n",
            "\n"
          ]
        },
        {
          "output_type": "stream",
          "name": "stdout",
          "text": [
            "Traceback (most recent call last):\n",
            "  File \"/usr/local/lib/python3.7/dist-packages/IPython/core/interactiveshell.py\", line 2882, in run_code\n",
            "    exec(code_obj, self.user_global_ns, self.user_ns)\n",
            "  File \"<ipython-input-67-bf02a6a8047b>\", line 2, in <module>\n",
            "    res=list(filter(lambda x:x%5!=0,li))\n",
            "TypeError: 'list' object is not callable\n",
            "\n",
            "During handling of the above exception, another exception occurred:\n",
            "\n",
            "Traceback (most recent call last):\n",
            "  File \"/usr/local/lib/python3.7/dist-packages/IPython/core/interactiveshell.py\", line 1823, in showtraceback\n",
            "    stb = value._render_traceback_()\n",
            "AttributeError: 'TypeError' object has no attribute '_render_traceback_'\n",
            "\n",
            "During handling of the above exception, another exception occurred:\n",
            "\n",
            "Traceback (most recent call last):\n",
            "  File \"/usr/local/lib/python3.7/dist-packages/IPython/core/ultratb.py\", line 1132, in get_records\n",
            "    return _fixed_getinnerframes(etb, number_of_lines_of_context, tb_offset)\n",
            "  File \"/usr/local/lib/python3.7/dist-packages/IPython/core/ultratb.py\", line 313, in wrapped\n",
            "    return f(*args, **kwargs)\n",
            "  File \"/usr/local/lib/python3.7/dist-packages/IPython/core/ultratb.py\", line 358, in _fixed_getinnerframes\n",
            "    records = fix_frame_records_filenames(inspect.getinnerframes(etb, context))\n",
            "  File \"/usr/lib/python3.7/inspect.py\", line 1502, in getinnerframes\n",
            "    frameinfo = (tb.tb_frame,) + getframeinfo(tb, context)\n",
            "  File \"/usr/lib/python3.7/inspect.py\", line 1460, in getframeinfo\n",
            "    filename = getsourcefile(frame) or getfile(frame)\n",
            "  File \"/usr/lib/python3.7/inspect.py\", line 696, in getsourcefile\n",
            "    if getattr(getmodule(object, filename), '__loader__', None) is not None:\n",
            "  File \"/usr/lib/python3.7/inspect.py\", line 725, in getmodule\n",
            "    file = getabsfile(object, _filename)\n",
            "  File \"/usr/lib/python3.7/inspect.py\", line 709, in getabsfile\n",
            "    return os.path.normcase(os.path.abspath(_filename))\n",
            "  File \"/usr/lib/python3.7/posixpath.py\", line 383, in abspath\n",
            "    cwd = os.getcwd()\n",
            "FileNotFoundError: [Errno 2] No such file or directory\n"
          ]
        },
        {
          "output_type": "error",
          "ename": "TypeError",
          "evalue": "ignored",
          "traceback": [
            "\u001b[0;31m---------------------------------------------------------------------------\u001b[0m"
          ]
        }
      ]
    },
    {
      "cell_type": "markdown",
      "source": [
        "Write a python program that generates desired output from fruits list. Filter out the fruits names that don’t start with ‘A’\n",
        "\n",
        "\n",
        "Fruit=[“Apple”,”Banana”,”Pear”,”Avacado”,”Orange”,”Amla”]\n",
        "\n",
        "Output: [“Apple”,”Avacado”,”Amla”]"
      ],
      "metadata": {
        "id": "1huun5Pm5Qnr"
      }
    },
    {
      "cell_type": "code",
      "source": [
        "Fruit=[\"Apple\",\"Banana\",\"Pear\",\"Avacado\",\"Orange\",\"Amla\"]\n",
        "res=list(filter(lambda x:x[0]=='A',Fruit))\n",
        "print(res)"
      ],
      "metadata": {
        "id": "Kg_iCrsg1941"
      },
      "execution_count": 75,
      "outputs": []
    },
    {
      "cell_type": "markdown",
      "source": [
        "Mssg=”Welcome to gradstellar bootcamp”\n",
        "X=”number of occurrences of ‘o’ in mssg”\n",
        "\n",
        "Y=”number of occurrences of ‘e’ in mssg”\n",
        "\n",
        "Compute (X+Y)2"
      ],
      "metadata": {
        "id": "yiFiA8Vz7t-r"
      }
    },
    {
      "cell_type": "code",
      "source": [
        "Mssg=\"Welcome to gradstellar bootcamp\"\n",
        "x=Mssg.count('o')\n",
        "print(x)\n",
        "y=Mssg.count('e')\n",
        "print(y)\n",
        "print(\"(x+y)^2=\",x*x+y*y+2*x*y)"
      ],
      "metadata": {
        "colab": {
          "base_uri": "https://localhost:8080/"
        },
        "id": "OaMBg-m06is2",
        "outputId": "7a87b584-7576-42af-fac8-9580f7257d0a"
      },
      "execution_count": 69,
      "outputs": [
        {
          "output_type": "stream",
          "name": "stdout",
          "text": [
            "4\n",
            "3\n",
            "(x+y)^2= 49\n"
          ]
        }
      ]
    },
    {
      "cell_type": "markdown",
      "source": [
        "Write python program that filters a list by removing the elements that not start with vowel.\n",
        "I/P: [‘apple’,’orange’,’grapes’,’ball’,’bat’,’umbrella’]\n",
        "\n",
        "O/P: [‘apple’,’orange’,’umbrella’]"
      ],
      "metadata": {
        "id": "qV2aYB3Z86Fq"
      }
    },
    {
      "cell_type": "code",
      "source": [
        "list22=[\"apple\",\"orange\",\"grapes\",\"ball\",\"bat\",\"umbrella\"]\n",
        "res=list(filter(lambda x:x[0] in 'AEIOUaeiou',list22))\n",
        "print(res)"
      ],
      "metadata": {
        "id": "okxJ0lE486tG"
      },
      "execution_count": 73,
      "outputs": []
    },
    {
      "cell_type": "markdown",
      "source": [
        "Write a python program that displays unique element in a given list using function\n",
        "Li=[56,78,32,45,45,45,19,20]\n",
        "\n",
        "O/P: [56,78,32,45,19,20]"
      ],
      "metadata": {
        "id": "Fs0KS6Zz-6oX"
      }
    },
    {
      "cell_type": "code",
      "source": [
        "List=[56,78,32,45,45,45,19,20]\n",
        "def dup(d):\n",
        "  n=[]\n",
        "  for i in d:\n",
        "    if i not in n:\n",
        "      n.append(i)\n",
        "  return n\n",
        "dup(List) \n"
      ],
      "metadata": {
        "colab": {
          "base_uri": "https://localhost:8080/"
        },
        "id": "iYJpZsCH_AM3",
        "outputId": "d199d7a6-139f-441d-f6ec-7a98311ce6ef"
      },
      "execution_count": 78,
      "outputs": [
        {
          "output_type": "execute_result",
          "data": {
            "text/plain": [
              "[56, 78, 32, 45, 19, 20]"
            ]
          },
          "metadata": {},
          "execution_count": 78
        }
      ]
    }
  ]
}