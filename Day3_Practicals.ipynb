{
  "nbformat": 4,
  "nbformat_minor": 0,
  "metadata": {
    "colab": {
      "name": "Day3 Practicals.ipynb",
      "provenance": [],
      "include_colab_link": true
    },
    "kernelspec": {
      "name": "python3",
      "display_name": "Python 3"
    },
    "language_info": {
      "name": "python"
    }
  },
  "cells": [
    {
      "cell_type": "markdown",
      "metadata": {
        "id": "view-in-github",
        "colab_type": "text"
      },
      "source": [
        "<a href=\"https://colab.research.google.com/github/suhaassanga/2216114_AIML_BootCamp/blob/Suhaas-Sanga/Day3_Practicals.ipynb\" target=\"_parent\"><img src=\"https://colab.research.google.com/assets/colab-badge.svg\" alt=\"Open In Colab\"/></a>"
      ]
    },
    {
      "cell_type": "code",
      "execution_count": 1,
      "metadata": {
        "colab": {
          "base_uri": "https://localhost:8080/"
        },
        "id": "_RA6uZMwDRyJ",
        "outputId": "bf546c4e-5e00-4a46-e18e-efebbf383554"
      },
      "outputs": [
        {
          "output_type": "stream",
          "name": "stdout",
          "text": [
            "Addition of 2 numbers is 1098\n",
            "sub of 2 numbers is 900\n"
          ]
        }
      ],
      "source": [
        "#class & object\n",
        "class co:\n",
        "  def subn(self,a,b):\n",
        "    return a-b\n",
        "  def addn(self,a,b):\n",
        "    return a+b\n",
        "obj=co()\n",
        "print(\"ADDITION: \",obj.addn(999,99))\n",
        "print(\"SUBTRACTION: \",obj.subn(999,99))"
      ]
    },
    {
      "cell_type": "code",
      "source": [
        "class c1:\n",
        "  class_var=\"demonstrates class creation\"\n",
        "  def cm(self):\n",
        "    return\"method invokation\"\n",
        "  def __str__(self):\n",
        "    return \"return string to object\"\n",
        "obj1=c1()\n",
        "print(obj1.class_var)\n",
        "print(obj1.cm())\n",
        "print(obj1)"
      ],
      "metadata": {
        "colab": {
          "base_uri": "https://localhost:8080/"
        },
        "id": "XU_bGYEND2is",
        "outputId": "6870ae12-5e6f-494c-809a-faa6c8d238d8"
      },
      "execution_count": 2,
      "outputs": [
        {
          "output_type": "stream",
          "name": "stdout",
          "text": [
            "demonstrates class creation\n",
            "method invokation\n",
            "return string to object\n"
          ]
        }
      ]
    },
    {
      "cell_type": "code",
      "source": [
        "class arth:\n",
        "  def subn(self,a,b):\n",
        "    return a-b\n",
        "  def addn(self,a,b):\n",
        "    return a+b\n",
        "  def mul(self,a,b):\n",
        "    return a*b\n",
        "  def div(self,a,b):\n",
        "    return a/b\n",
        "  def mo(self,a,b):\n",
        "    return a%b\n",
        "  def fl(self,a,b):\n",
        "    return a//b\n",
        "  def po(self,a,b):\n",
        "    return a**b\n",
        "obj=arth()\n",
        "print(\"ADDITION: \",obj.addn(999,99))\n",
        "print(\"SUBTRACTION\",obj.subn(999,99))\n",
        "print(\"MULTIPLICATION\",obj.mul(999,99))\n",
        "print(\"DIVISION\",obj.div(999,99))\n",
        "print(\"MO\",obj.subn(999,99))\n",
        "print(\"FLOAT DIV\",obj.subn(999,99))\n",
        "print(\"POWER\",obj.subn(999,99))"
      ],
      "metadata": {
        "colab": {
          "base_uri": "https://localhost:8080/"
        },
        "id": "j6aExdjiFF5W",
        "outputId": "65bf8618-b427-49ac-ef66-db3a82696853"
      },
      "execution_count": 3,
      "outputs": [
        {
          "output_type": "stream",
          "name": "stdout",
          "text": [
            "ADDITION:  1098\n",
            "SUBTRACTION 900\n",
            "MULTIPLICATION 98901\n",
            "DIVISION 10.090909090909092\n",
            "MO 900\n",
            "FLOAT DIV 900\n",
            "POWER 900\n"
          ]
        }
      ]
    },
    {
      "cell_type": "code",
      "source": [
        "#inheritance\n",
        "\n",
        "#single\n",
        "class Animal:\n",
        "  def animal_sounds(self):\n",
        "    return \"makes sound\"\n",
        "class cat(Animal):\n",
        "  def cat_sound(self):\n",
        "    return self.animal_sounds()+\"MEOW\"\n",
        "  def __str__(self):\n",
        "    return \"CAT\"\n",
        "\n",
        "catobj=cat()\n",
        "print(catobj,catobj.cat_sound())"
      ],
      "metadata": {
        "colab": {
          "base_uri": "https://localhost:8080/"
        },
        "id": "5t7owbswGLTF",
        "outputId": "40ac441e-ec98-4cd3-df7b-7347bd754803"
      },
      "execution_count": null,
      "outputs": [
        {
          "output_type": "stream",
          "name": "stdout",
          "text": [
            "CAT makes soundMEOW\n"
          ]
        }
      ]
    },
    {
      "cell_type": "code",
      "source": [
        "#hierarchial\n",
        "class Animal:\n",
        "  def animal_sounds(self):\n",
        "    return \"makes sound\"\n",
        "class cat(Animal):\n",
        "  def cat_sound(self):\n",
        "    return self.animal_sounds()+\"MEOW\"\n",
        "  def __str__(self):\n",
        "    return \"CAT\"\n",
        "class Dog(Animal):\n",
        "  def dog_sound(self):\n",
        "    return self.animal_sounds()+\"BOW\"\n",
        "  def __str__(self):\n",
        "    return \"DOG\"\n",
        "catobj=cat()\n",
        "print(catobj,catobj.cat_sound())\n",
        "dogobj=Dog()\n",
        "print(dogobj,dogobj.dog_sound())"
      ],
      "metadata": {
        "colab": {
          "base_uri": "https://localhost:8080/"
        },
        "id": "yPSeWLEnIYMP",
        "outputId": "031f9d60-cb55-4974-c543-0d55cabf01d1"
      },
      "execution_count": null,
      "outputs": [
        {
          "output_type": "stream",
          "name": "stdout",
          "text": [
            "CAT makes soundMEOW\n",
            "DOG makes soundBOW\n"
          ]
        }
      ]
    },
    {
      "cell_type": "code",
      "source": [
        "#multilevel inheritance \n",
        "class Animal:\n",
        "  def animal_sounds(self):\n",
        "    return \"makes sound\"\n",
        "class Cat(Animal):\n",
        "  def cat_sound(self):\n",
        "    return self.animal_sounds()+\"MEOW\"\n",
        "class CatColor(cat):\n",
        "  def __str__(self):\n",
        "    return \"CAT\"\n",
        "  def color(self):\n",
        "    return \"color is black\"\n",
        "catcolor=CatColor()\n",
        "print(catcolor,catcolor.cat_sound())\n",
        "print(catcolor,catcolor.color())"
      ],
      "metadata": {
        "colab": {
          "base_uri": "https://localhost:8080/"
        },
        "id": "Vy4dT1qrJMsr",
        "outputId": "74191141-ff52-4be1-cb1a-f2a01a497359"
      },
      "execution_count": null,
      "outputs": [
        {
          "output_type": "stream",
          "name": "stdout",
          "text": [
            "CAT makes soundMEOW\n",
            "CAT color is black\n"
          ]
        }
      ]
    },
    {
      "cell_type": "code",
      "source": [
        "class Animal:\n",
        "  def animal_sounds(self):\n",
        "    return \"makes sound\"\n",
        "class Dog(Animal):\n",
        "  def Dog_sound(self):\n",
        "    return self.animal_sounds()+\"BOW\"\n",
        "class DogColor(Dog):\n",
        "  def __str__(self):\n",
        "    return \"DOG\"\n",
        "  def color(self):\n",
        "    return \"color is black\"\n",
        "dogcolor=DogColor()\n",
        "print(dogcolor,dogcolor.Dog_sound())\n",
        "print(dogcolor,dogcolor.color())"
      ],
      "metadata": {
        "colab": {
          "base_uri": "https://localhost:8080/"
        },
        "id": "4CTrFtuTcJxq",
        "outputId": "5ad9a55a-4dd5-4cec-bacd-fb419628b7d7"
      },
      "execution_count": null,
      "outputs": [
        {
          "output_type": "stream",
          "name": "stdout",
          "text": [
            "DOG makes soundBOW\n",
            "DOG color is black\n"
          ]
        }
      ]
    },
    {
      "cell_type": "code",
      "source": [
        "#exceptions\n",
        "#name \n",
        "try:\n",
        "  print(x)\n",
        "except NameError as ne:\n",
        "  print(\"exception occurred\",ne)\n",
        "print(\"executed\")"
      ],
      "metadata": {
        "colab": {
          "base_uri": "https://localhost:8080/"
        },
        "id": "x4k8d8MOKRmZ",
        "outputId": "872f15bf-8a9b-4775-dad6-4fab509fd34c"
      },
      "execution_count": null,
      "outputs": [
        {
          "output_type": "stream",
          "name": "stdout",
          "text": [
            "exception occurred name 'x' is not defined\n",
            "executed\n"
          ]
        }
      ]
    },
    {
      "cell_type": "code",
      "source": [
        "#value error\n",
        "a=\"25 xyz\"\n",
        "print(int(a))\n"
      ],
      "metadata": {
        "colab": {
          "base_uri": "https://localhost:8080/",
          "height": 200
        },
        "id": "0vEdJN2aMEVr",
        "outputId": "c470478c-3c67-4529-d2b0-36271dba852a"
      },
      "execution_count": null,
      "outputs": [
        {
          "output_type": "error",
          "ename": "ValueError",
          "evalue": "ignored",
          "traceback": [
            "\u001b[0;31m---------------------------------------------------------------------------\u001b[0m",
            "\u001b[0;31mValueError\u001b[0m                                Traceback (most recent call last)",
            "\u001b[0;32m<ipython-input-24-d7f61ebe063d>\u001b[0m in \u001b[0;36m<module>\u001b[0;34m()\u001b[0m\n\u001b[1;32m      1\u001b[0m \u001b[0;31m#value error\u001b[0m\u001b[0;34m\u001b[0m\u001b[0;34m\u001b[0m\u001b[0;34m\u001b[0m\u001b[0m\n\u001b[1;32m      2\u001b[0m \u001b[0ma\u001b[0m\u001b[0;34m=\u001b[0m\u001b[0;34m\"25 xyz\"\u001b[0m\u001b[0;34m\u001b[0m\u001b[0;34m\u001b[0m\u001b[0m\n\u001b[0;32m----> 3\u001b[0;31m \u001b[0mprint\u001b[0m\u001b[0;34m(\u001b[0m\u001b[0mint\u001b[0m\u001b[0;34m(\u001b[0m\u001b[0ma\u001b[0m\u001b[0;34m)\u001b[0m\u001b[0;34m)\u001b[0m\u001b[0;34m\u001b[0m\u001b[0;34m\u001b[0m\u001b[0m\n\u001b[0m",
            "\u001b[0;31mValueError\u001b[0m: invalid literal for int() with base 10: '25 xyz'"
          ]
        }
      ]
    },
    {
      "cell_type": "code",
      "source": [
        "#value error\n",
        "a='25 xyz'\n",
        "try:\n",
        "  print(int(a))\n",
        "except ValueError as e:\n",
        "  print(e)"
      ],
      "metadata": {
        "colab": {
          "base_uri": "https://localhost:8080/"
        },
        "id": "aUlpppKCMpHO",
        "outputId": "d3419a8e-86b4-4ac6-8b24-ae3d135f0c7a"
      },
      "execution_count": 4,
      "outputs": [
        {
          "output_type": "stream",
          "name": "stdout",
          "text": [
            "invalid literal for int() with base 10: '25 xyz'\n"
          ]
        }
      ]
    },
    {
      "cell_type": "code",
      "source": [
        "#exception handing\n",
        "#2003\n",
        "class instud(Exception):\n",
        "  pass\n",
        "stid=input(\"enter student id=\")\n",
        "try:\n",
        "  if stid[:4]!=\"2003\":\n",
        "    raise instud\n",
        "except instud:\n",
        "  print(\"error raised due to invalid details\")\n",
        "print(\"details verified\") "
      ],
      "metadata": {
        "colab": {
          "base_uri": "https://localhost:8080/"
        },
        "id": "CTs1zu2rM6wA",
        "outputId": "bad64fdd-601c-4c63-cdf1-6c24acefa819"
      },
      "execution_count": 5,
      "outputs": [
        {
          "output_type": "stream",
          "name": "stdout",
          "text": [
            "enter student id=2003A52132\n",
            "details verified\n"
          ]
        }
      ]
    },
    {
      "cell_type": "code",
      "source": [
        "class instud(Exception):\n",
        "    def __str__(self):\n",
        "      return \"ERROR RAISED\"\n",
        "stid=input(\"enter student id=\")\n",
        "try:\n",
        "  if stid[:4]!=\"2003\":\n",
        "    raise instud\n",
        "except instud:\n",
        "  print(\"error raised due to invalid details\")\n",
        "print(\"details verified\") "
      ],
      "metadata": {
        "colab": {
          "base_uri": "https://localhost:8080/"
        },
        "id": "KSZILtP3OBZa",
        "outputId": "174466e7-984d-46d5-d726-35f12619239c"
      },
      "execution_count": 7,
      "outputs": [
        {
          "output_type": "stream",
          "name": "stdout",
          "text": [
            "enter student id=2003A52132\n",
            "details verified\n"
          ]
        }
      ]
    },
    {
      "cell_type": "code",
      "source": [
        "class vote(Exception):\n",
        "  pass\n",
        "age=input(\"enter student id=\")\n",
        "try:\n",
        "  if age[:4]<=\"18\":\n",
        "    raise vote\n",
        "except vote:\n",
        "  print(\"error raised due to invalid details\")\n",
        "print(\"You can vote\") "
      ],
      "metadata": {
        "colab": {
          "base_uri": "https://localhost:8080/"
        },
        "id": "lNAfijLmPDho",
        "outputId": "f2089f1e-63f0-429f-9d62-fff476cb5034"
      },
      "execution_count": 8,
      "outputs": [
        {
          "output_type": "stream",
          "name": "stdout",
          "text": [
            "enter student id=2003A52132\n",
            "You can vote\n"
          ]
        }
      ]
    },
    {
      "cell_type": "code",
      "source": [
        "f=open(\"saxmple.txt\",\"x\")\n",
        "f.write(\"SUHAAS SANGA\")\n",
        "f.close()"
      ],
      "metadata": {
        "id": "xdZxVMi0QFrP"
      },
      "execution_count": 9,
      "outputs": []
    },
    {
      "cell_type": "code",
      "source": [
        "f=open(\"sample.txt\",\"r\")\n",
        "print(f.read())\n",
        "f.close()"
      ],
      "metadata": {
        "colab": {
          "base_uri": "https://localhost:8080/",
          "height": 206
        },
        "id": "jqB_vUSoiE2m",
        "outputId": "a4e50fc1-5bdd-4b3b-e789-d06e78c5ad8c"
      },
      "execution_count": 10,
      "outputs": [
        {
          "output_type": "error",
          "ename": "FileNotFoundError",
          "evalue": "ignored",
          "traceback": [
            "\u001b[0;31m---------------------------------------------------------------------------\u001b[0m",
            "\u001b[0;31mFileNotFoundError\u001b[0m                         Traceback (most recent call last)",
            "\u001b[0;32m<ipython-input-10-f5b9ac6d5c5e>\u001b[0m in \u001b[0;36m<module>\u001b[0;34m()\u001b[0m\n\u001b[0;32m----> 1\u001b[0;31m \u001b[0mf\u001b[0m\u001b[0;34m=\u001b[0m\u001b[0mopen\u001b[0m\u001b[0;34m(\u001b[0m\u001b[0;34m\"sample.txt\"\u001b[0m\u001b[0;34m,\u001b[0m\u001b[0;34m\"r\"\u001b[0m\u001b[0;34m)\u001b[0m\u001b[0;34m\u001b[0m\u001b[0;34m\u001b[0m\u001b[0m\n\u001b[0m\u001b[1;32m      2\u001b[0m \u001b[0mprint\u001b[0m\u001b[0;34m(\u001b[0m\u001b[0mf\u001b[0m\u001b[0;34m.\u001b[0m\u001b[0mread\u001b[0m\u001b[0;34m(\u001b[0m\u001b[0;34m)\u001b[0m\u001b[0;34m)\u001b[0m\u001b[0;34m\u001b[0m\u001b[0;34m\u001b[0m\u001b[0m\n\u001b[1;32m      3\u001b[0m \u001b[0mf\u001b[0m\u001b[0;34m.\u001b[0m\u001b[0mclose\u001b[0m\u001b[0;34m(\u001b[0m\u001b[0;34m)\u001b[0m\u001b[0;34m\u001b[0m\u001b[0;34m\u001b[0m\u001b[0m\n",
            "\u001b[0;31mFileNotFoundError\u001b[0m: [Errno 2] No such file or directory: 'sample.txt'"
          ]
        }
      ]
    },
    {
      "cell_type": "code",
      "source": [
        "import os\n",
        "os.remove(\"sample.txt\")"
      ],
      "metadata": {
        "id": "vFsjSQCOiOpf",
        "colab": {
          "base_uri": "https://localhost:8080/",
          "height": 188
        },
        "outputId": "59dbea31-7e37-48e6-ae6c-960459429924"
      },
      "execution_count": 11,
      "outputs": [
        {
          "output_type": "error",
          "ename": "FileNotFoundError",
          "evalue": "ignored",
          "traceback": [
            "\u001b[0;31m---------------------------------------------------------------------------\u001b[0m",
            "\u001b[0;31mFileNotFoundError\u001b[0m                         Traceback (most recent call last)",
            "\u001b[0;32m<ipython-input-11-5e47b3705752>\u001b[0m in \u001b[0;36m<module>\u001b[0;34m()\u001b[0m\n\u001b[1;32m      1\u001b[0m \u001b[0;32mimport\u001b[0m \u001b[0mos\u001b[0m\u001b[0;34m\u001b[0m\u001b[0;34m\u001b[0m\u001b[0m\n\u001b[0;32m----> 2\u001b[0;31m \u001b[0mos\u001b[0m\u001b[0;34m.\u001b[0m\u001b[0mremove\u001b[0m\u001b[0;34m(\u001b[0m\u001b[0;34m\"sample.txt\"\u001b[0m\u001b[0;34m)\u001b[0m\u001b[0;34m\u001b[0m\u001b[0;34m\u001b[0m\u001b[0m\n\u001b[0m",
            "\u001b[0;31mFileNotFoundError\u001b[0m: [Errno 2] No such file or directory: 'sample.txt'"
          ]
        }
      ]
    },
    {
      "cell_type": "code",
      "source": [
        "#regular expressions\n",
        "import re\n",
        "pattern=r\"COOKIE\"\n",
        "sequence=(\"Cookie\")\n",
        "if re.match(pattern,sequence):\n",
        "  print(\"MATCHING\")\n",
        "else:\n",
        "  print(\"NOT A MATCH\")\n",
        "  "
      ],
      "metadata": {
        "colab": {
          "base_uri": "https://localhost:8080/"
        },
        "id": "4fJbcprBoAPV",
        "outputId": "d1fc128a-5f39-4913-f332-e62e96f4013f"
      },
      "execution_count": null,
      "outputs": [
        {
          "output_type": "stream",
          "name": "stdout",
          "text": [
            "NOT A MATCH\n"
          ]
        }
      ]
    },
    {
      "cell_type": "code",
      "source": [
        "f=open(\"sample.txt\",\"r\")\n",
        "print(f.read(3))\n",
        "print(f.tell())\n",
        "print(f.seek(2))\n",
        "print(f.seek(0))\n",
        "print(f.readline())\n",
        "print(f.readlines())\n",
        "f.close()"
      ],
      "metadata": {
        "colab": {
          "base_uri": "https://localhost:8080/"
        },
        "id": "_gKgHIx0ihYn",
        "outputId": "59f57ddb-4d6f-419f-bc9c-8fbc64a02c71"
      },
      "execution_count": null,
      "outputs": [
        {
          "output_type": "stream",
          "name": "stdout",
          "text": [
            "wel\n",
            "3\n",
            "2\n",
            "0\n",
            "welcome\n",
            "[]\n"
          ]
        }
      ]
    },
    {
      "cell_type": "code",
      "source": [
        "#pickleing\n",
        "import pickle\n",
        "myl=['a','b','c','d']\n",
        "f4=open(\"datafile1.txt\",\"wb\")\n",
        "pickle.dump(myl,f4)\n",
        "f4.close()\n",
        "\n",
        "#unpickling\n",
        "import pickle\n",
        "picke_off=open(\"datafile1.txt\",\"rb\")\n",
        "e=pickle.load(picke_off)\n",
        "print(e)"
      ],
      "metadata": {
        "colab": {
          "base_uri": "https://localhost:8080/"
        },
        "id": "w9pglfyKl3wT",
        "outputId": "837b920a-78f2-4ecf-f8b5-e98f7285859f"
      },
      "execution_count": null,
      "outputs": [
        {
          "output_type": "stream",
          "name": "stdout",
          "text": [
            "['a', 'b', 'c', 'd']\n"
          ]
        }
      ]
    },
    {
      "cell_type": "code",
      "source": [
        "#copy paste\n",
        "f1=open(\"f11.txt\",\"x\")\n",
        "f2=open(\"f2.txt\",\"x\")"
      ],
      "metadata": {
        "id": "OiGoFZtzi4Qg"
      },
      "execution_count": null,
      "outputs": []
    },
    {
      "cell_type": "code",
      "source": [
        "f1=open(\"f11.txt\",\"w\")\n",
        "f1.write(\"COPYPASTE\")\n",
        "f1.close()"
      ],
      "metadata": {
        "id": "L-NAhz18kMPs"
      },
      "execution_count": null,
      "outputs": []
    },
    {
      "cell_type": "code",
      "source": [
        "f1=open(\"f11.txt\",\"r\")\n",
        "temp=f1.read()\n",
        "f1.close()\n",
        "\n",
        "f2=open(\"f2.txt\",\"w\")\n",
        "f2.write(temp)\n",
        "f2.close()"
      ],
      "metadata": {
        "id": "cdFJodjTkjaz"
      },
      "execution_count": null,
      "outputs": []
    },
    {
      "cell_type": "code",
      "source": [
        "9"
      ],
      "metadata": {
        "id": "mGifpLT2zV4T"
      },
      "execution_count": null,
      "outputs": []
    }
  ]
}