{
  "nbformat": 4,
  "nbformat_minor": 0,
  "metadata": {
    "colab": {
      "name": "AIML_BootCamp_Assignment-01.ipynb",
      "provenance": [],
      "authorship_tag": "ABX9TyOe9Eq5njiBIiipiLLO/jmy",
      "include_colab_link": true
    },
    "kernelspec": {
      "name": "python3",
      "display_name": "Python 3"
    },
    "language_info": {
      "name": "python"
    }
  },
  "cells": [
    {
      "cell_type": "markdown",
      "metadata": {
        "id": "view-in-github",
        "colab_type": "text"
      },
      "source": [
        "<a href=\"https://colab.research.google.com/github/suhaassanga/2216114_AIML_BootCamp/blob/Suhaas-Sanga/AIML_BootCamp_Assignment_01.ipynb\" target=\"_parent\"><img src=\"https://colab.research.google.com/assets/colab-badge.svg\" alt=\"Open In Colab\"/></a>"
      ]
    },
    {
      "cell_type": "markdown",
      "source": [
        "                                     2216114  AIML BOOTCAMP ASSIGNMENT-01"
      ],
      "metadata": {
        "id": "U2AsE5h21wO6"
      }
    },
    {
      "cell_type": "markdown",
      "source": [
        "1. Implement the methods of String with examples."
      ],
      "metadata": {
        "id": "o6JGmSbg15IX"
      }
    },
    {
      "cell_type": "code",
      "source": [
        "str='   sr University '\n",
        "print(str)\n",
        "print(str.lower())\n",
        "print(str.upper())\n",
        "print(str.capitalize())\n",
        "print(str.swapcase())\n",
        "print(str.title())\n",
        "print(str.lstrip())\n",
        "print(str.rstrip())\n",
        "#indexing\n",
        "print(str[:-1])\n",
        "print(str[:3])\n",
        "#slicing \n",
        "print(str[:4])"
      ],
      "metadata": {
        "colab": {
          "base_uri": "https://localhost:8080/"
        },
        "id": "QHTSfUslpcTy",
        "outputId": "ed03d26b-cd81-4556-c566-42a567a195bb"
      },
      "execution_count": 37,
      "outputs": [
        {
          "output_type": "stream",
          "name": "stdout",
          "text": [
            "   sr University \n",
            "   sr university \n",
            "   SR UNIVERSITY \n",
            "   sr university \n",
            "   SR uNIVERSITY \n",
            "   Sr University \n",
            "sr University \n",
            "   sr University\n",
            "   sr University\n",
            "   \n",
            "   s\n"
          ]
        }
      ]
    },
    {
      "cell_type": "markdown",
      "source": [
        "2. Implement the methods of List with examples."
      ],
      "metadata": {
        "id": "_STBBPOv3NoO"
      }
    },
    {
      "cell_type": "code",
      "source": [
        "list_1=[9,8,7,6,5]\n",
        "list_2=['s','u','h','a','a','s']\n",
        "list_3=[[6,7,8,9],\"sru\",22.097]\n",
        "#indexing\n",
        "print(list_1[2])\n",
        "#slicing\n",
        "print(list_2[1:3])\n",
        "#nested list\n",
        "print(list_3[0][3])\n",
        "print(list_3[1][2])\n",
        "print(list_3[1][1])\n",
        "\n",
        "list_1.append(4)\n",
        "print(list_1)\n",
        "\n",
        "list_2.extend(['s','a','n','g','a'])\n",
        "print(list_2)\n",
        "\n",
        "list_3.insert(9,0.9)\n",
        "print(list_3)\n",
        "\n",
        "del list_3[2]\n",
        "print(list_3)\n",
        "\n",
        "del list_1[0:3]\n",
        "print(list_1)\n",
        "\n",
        "list_2.remove('a')\n",
        "print(list_2)\n",
        "\n",
        "list_1.pop()\n",
        "print(list_1)\n",
        "\n",
        "list_2.clear()\n",
        "print(list_2)\n",
        "\n",
        "print(list_3.count(3))\n",
        "\n",
        "print(len(list_3))\n",
        "\n",
        "print(list_3.reverse())\n",
        "\n",
        "print(list_2.sort())"
      ],
      "metadata": {
        "colab": {
          "base_uri": "https://localhost:8080/"
        },
        "id": "xAFR7BYA1nyQ",
        "outputId": "eb141905-761f-4968-81ca-578dcf7b0644"
      },
      "execution_count": 72,
      "outputs": [
        {
          "output_type": "stream",
          "name": "stdout",
          "text": [
            "7\n",
            "['u', 'h']\n",
            "9\n",
            "u\n",
            "r\n",
            "[9, 8, 7, 6, 5, 4]\n",
            "['s', 'u', 'h', 'a', 'a', 's', 's', 'a', 'n', 'g', 'a']\n",
            "[[6, 7, 8, 9], 'sru', 22.097, 0.9]\n",
            "[[6, 7, 8, 9], 'sru', 0.9]\n",
            "[6, 5, 4]\n",
            "['s', 'u', 'h', 'a', 's', 's', 'a', 'n', 'g', 'a']\n",
            "[6, 5]\n",
            "[]\n",
            "0\n",
            "3\n",
            "None\n",
            "None\n"
          ]
        }
      ]
    },
    {
      "cell_type": "markdown",
      "source": [
        "3. Implement the methods of Tuple with examples.\n"
      ],
      "metadata": {
        "id": "mvxdIFno9jeh"
      }
    },
    {
      "cell_type": "code",
      "source": [
        "tuple_1=(\"Sr\",\"2003A52132\",11.999)\n",
        "tuple_2=(0,1,2,3,4)\n",
        "tuple_3=(\"Sr\",\"University\")\n",
        "print(tuple_1.count(\"Sr\"))\n",
        "print(tuple_2.index(2))\n",
        "print(min(tuple_3))\n",
        "print(max(tuple_3))\n",
        "print(len(tuple_1))\n",
        "print(tuple_1[2])\n",
        "print(tuple_2[-3])\n",
        "print(tuple_3[-1][2])"
      ],
      "metadata": {
        "colab": {
          "base_uri": "https://localhost:8080/"
        },
        "id": "JawQTGkh9rA2",
        "outputId": "419ceaae-4b43-4baf-a6f7-ca7200437af9"
      },
      "execution_count": 87,
      "outputs": [
        {
          "output_type": "stream",
          "name": "stdout",
          "text": [
            "1\n",
            "2\n",
            "Sr\n",
            "University\n",
            "3\n",
            "11.999\n",
            "2\n",
            "i\n"
          ]
        }
      ]
    },
    {
      "cell_type": "markdown",
      "source": [
        "4. Implement the methods of Dictionary with examples.\n"
      ],
      "metadata": {
        "id": "VGnwfqCg_tlp"
      }
    },
    {
      "cell_type": "code",
      "source": [
        "d={'Name':'SUHAAS SANGA','Phone':7993402600,'Address':'HNK','Qualification':'B.TECH','Branch':'CSE AIML'}\n",
        "print(d[\"Branch\"])\n",
        "print(d.keys())\n",
        "print(d.values())\n",
        "print(d.get('Qualification'))\n",
        "Name=\"SUHAAS SANGA\"\n",
        "Qualification=\"B.TECH\"\n",
        "Year=\" 2ND year\"\n",
        "college=\"SRU\"\n",
        "print(Name,\"is Qualification\",Qualification,\"in\",college)\n",
        "print(\"{} is Qualification {} {} in {}\".format(Name,Qualification,Year,college))\n",
        "print(\"{1} {2} {3} {0}\".format(Name,Qualification,Year,college))\n",
        "print(\"%s is Qualification %s %s in %s\"%(Name,Qualification,Year,college))\n",
        "print(f\"{Name} currently pursuing her {Qualification} {Year} in {college}\")"
      ],
      "metadata": {
        "colab": {
          "base_uri": "https://localhost:8080/"
        },
        "id": "VrR7RJn7_3kv",
        "outputId": "061ef72c-3cf1-43d3-f3f0-4966ed18b04d"
      },
      "execution_count": 90,
      "outputs": [
        {
          "output_type": "stream",
          "name": "stdout",
          "text": [
            "CSE AIML\n",
            "dict_keys(['Name', 'Phone', 'Address', 'Qualification', 'Branch'])\n",
            "dict_values(['SUHAAS SANGA', 7993402600, 'HNK', 'B.TECH', 'CSE AIML'])\n",
            "B.TECH\n",
            "SUHAAS SANGA is Qualification B.TECH in SRU\n",
            "SUHAAS SANGA is Qualification B.TECH  2ND year in SRU\n",
            "B.TECH  2ND year SRU SUHAAS SANGA\n",
            "SUHAAS SANGA is Qualification B.TECH  2ND year in SRU\n",
            "SUHAAS SANGA currently pursuing her B.TECH  2ND year in SRU\n"
          ]
        }
      ]
    },
    {
      "cell_type": "markdown",
      "source": [
        "5. Implement the methods of Set with examples."
      ],
      "metadata": {
        "id": "zZ8pRkQWT39s"
      }
    },
    {
      "cell_type": "code",
      "source": [
        "str={9,8,7,6,5}\n",
        "str.add(4)\n",
        "print(str)\n",
        "str.update([3,2,1])\n",
        "print(str)\n",
        "str.remove(5)\n",
        "print(str)\n",
        "str.discard(4)\n",
        "print(str)\n",
        "str_1={4,5,1,2,9,10}\n",
        "\n",
        "#intersection\n",
        "print(str&str_1)\n",
        "print(str.intersection(str_1))\n",
        "print(str_1.intersection(str))\n",
        "\n",
        "#difference\n",
        "print(str-str_1)\n",
        "print(str.difference(str_1))\n",
        "\n",
        "#union\n",
        "print(str|str_1)\n",
        "print(str.union(str_1))\n",
        "print(str_1.union(str))\n"
      ],
      "metadata": {
        "colab": {
          "base_uri": "https://localhost:8080/"
        },
        "id": "FDFGiatDUCcg",
        "outputId": "c8b26697-064f-4ee3-e91d-e004bed5fb00"
      },
      "execution_count": 91,
      "outputs": [
        {
          "output_type": "stream",
          "name": "stdout",
          "text": [
            "{4, 5, 6, 7, 8, 9}\n",
            "{1, 2, 3, 4, 5, 6, 7, 8, 9}\n",
            "{1, 2, 3, 4, 6, 7, 8, 9}\n",
            "{1, 2, 3, 6, 7, 8, 9}\n",
            "{1, 2, 9}\n",
            "{1, 2, 9}\n",
            "{1, 2, 9}\n",
            "{8, 3, 6, 7}\n",
            "{8, 3, 6, 7}\n",
            "{1, 2, 3, 4, 5, 6, 7, 8, 9, 10}\n",
            "{1, 2, 3, 4, 5, 6, 7, 8, 9, 10}\n",
            "{1, 2, 3, 4, 5, 6, 7, 8, 9, 10}\n"
          ]
        }
      ]
    },
    {
      "cell_type": "markdown",
      "source": [
        "6. Write a python program to convert Decimal to Binary, Octal and Hexadecimal with \n",
        "direct method.\n"
      ],
      "metadata": {
        "id": "1FT9UjX9VC_K"
      }
    },
    {
      "cell_type": "code",
      "source": [
        "n=int(input(\"ENTER A VALUE: \"))\n",
        "print(bin(n))\n",
        "print(oct(n))\n",
        "print(hex(n))"
      ],
      "metadata": {
        "colab": {
          "base_uri": "https://localhost:8080/"
        },
        "id": "fDnWAU--VLgL",
        "outputId": "e8457c63-f8b8-4cf7-8b1c-d55a7377104e"
      },
      "execution_count": 94,
      "outputs": [
        {
          "output_type": "stream",
          "name": "stdout",
          "text": [
            "ENTER A VALUE: 9\n",
            "0b1001\n",
            "0o11\n",
            "0x9\n"
          ]
        }
      ]
    },
    {
      "cell_type": "markdown",
      "source": [
        "7. Implement Arithmetic operators with examples."
      ],
      "metadata": {
        "id": "_ZcEi4Q8Vq1y"
      }
    },
    {
      "cell_type": "code",
      "source": [
        "x=int(input(\"ENTER A VALUE: \"))\n",
        "y=int(input(\"ENTER A VALUE: \"))\n",
        "print(x+y)\n",
        "print(abs(x-y))\n",
        "print(x*y)\n",
        "print(x/y)\n",
        "print(x%y)\n",
        "print(x**y)\n",
        "print(x//y)"
      ],
      "metadata": {
        "colab": {
          "base_uri": "https://localhost:8080/"
        },
        "id": "DSTodYcoVwq8",
        "outputId": "195443b4-cde7-4adc-db25-912a5343df40"
      },
      "execution_count": 95,
      "outputs": [
        {
          "output_type": "stream",
          "name": "stdout",
          "text": [
            "ENTER A VALUE: 9\n",
            "ENTER A VALUE: 5\n",
            "14\n",
            "4\n",
            "45\n",
            "1.8\n",
            "4\n",
            "59049\n",
            "1\n"
          ]
        }
      ]
    },
    {
      "cell_type": "markdown",
      "source": [
        "8. Implement Assignment operators with examples.\n"
      ],
      "metadata": {
        "id": "FpohKniJWMEV"
      }
    },
    {
      "cell_type": "code",
      "source": [
        "a=9\n",
        "b=5\n",
        "\n",
        "print(a)\n",
        "\n",
        "a+=3\n",
        "print(a)\n",
        "\n",
        "a-=3\n",
        "print(a)\n",
        "\n",
        "a*=3\n",
        "print(a)\n",
        "\n",
        "a/=3\n",
        "print(a)\n",
        "\n",
        "a%=3\n",
        "print(a)\n",
        "\n",
        "b//=3\n",
        "print(b)\n",
        "\n",
        "b**=3\n",
        "print(b)"
      ],
      "metadata": {
        "colab": {
          "base_uri": "https://localhost:8080/"
        },
        "id": "M3lA3o4jWPvS",
        "outputId": "bd7e5455-cc4e-4309-fd10-aa0550dfd560"
      },
      "execution_count": 97,
      "outputs": [
        {
          "output_type": "stream",
          "name": "stdout",
          "text": [
            "9\n",
            "12\n",
            "9\n",
            "27\n",
            "9.0\n",
            "0.0\n",
            "1\n",
            "1\n"
          ]
        }
      ]
    },
    {
      "cell_type": "markdown",
      "source": [
        "9. Implement Comparison operators with examples."
      ],
      "metadata": {
        "id": "LbsvZ9S1WvFq"
      }
    },
    {
      "cell_type": "code",
      "source": [
        "p=999\n",
        "q=99\n",
        "print(p==q)\n",
        "print(p!=q)\n",
        "print(p>q)\n",
        "print(p<q)\n",
        "print(p>=q)\n",
        "print(p<=q)"
      ],
      "metadata": {
        "colab": {
          "base_uri": "https://localhost:8080/"
        },
        "id": "zAAf1-_iW1vm",
        "outputId": "61ae907d-1121-4515-9ab9-b14be5edf70d"
      },
      "execution_count": 98,
      "outputs": [
        {
          "output_type": "stream",
          "name": "stdout",
          "text": [
            "False\n",
            "True\n",
            "True\n",
            "False\n",
            "True\n",
            "False\n"
          ]
        }
      ]
    },
    {
      "cell_type": "markdown",
      "source": [
        "10. Implement Logical operators with examples."
      ],
      "metadata": {
        "id": "5Z0wDnPFXOP2"
      }
    },
    {
      "cell_type": "code",
      "source": [
        "p=999\n",
        "q=99\n",
        "print(p==99 and q==999)\n",
        "print(p==99 or q==999)\n",
        "print(not p==q)"
      ],
      "metadata": {
        "colab": {
          "base_uri": "https://localhost:8080/"
        },
        "id": "C7ek8n1gXT1l",
        "outputId": "99f71cfa-cce0-4a22-9a29-034ac440e83a"
      },
      "execution_count": 99,
      "outputs": [
        {
          "output_type": "stream",
          "name": "stdout",
          "text": [
            "False\n",
            "False\n",
            "True\n"
          ]
        }
      ]
    },
    {
      "cell_type": "markdown",
      "source": [
        "11. Implement Bitwise operators with examples."
      ],
      "metadata": {
        "id": "JsEkbvn3Xqor"
      }
    },
    {
      "cell_type": "code",
      "source": [
        "p=99\n",
        "q=999\n",
        "print(p==49 & q==95)\n",
        "print(p&q)\n",
        "print(p==95|q==49)\n",
        "print(p&q)\n",
        "print(p^q)\n",
        "print(~p)\n",
        "print(p>>6)\n",
        "print(q<<9)"
      ],
      "metadata": {
        "colab": {
          "base_uri": "https://localhost:8080/"
        },
        "id": "DdMjetLsXuUw",
        "outputId": "eaaa888c-123c-4bc5-cc39-0fd754c375a6"
      },
      "execution_count": 101,
      "outputs": [
        {
          "output_type": "stream",
          "name": "stdout",
          "text": [
            "False\n",
            "99\n",
            "False\n",
            "99\n",
            "900\n",
            "-100\n",
            "1\n",
            "511488\n"
          ]
        }
      ]
    },
    {
      "cell_type": "markdown",
      "source": [
        "12. Implement Membership operators with examples.\n"
      ],
      "metadata": {
        "id": "lpRZkWfxYLYG"
      }
    },
    {
      "cell_type": "code",
      "source": [
        "str=\"Suhaas Sanga\"\n",
        "print(' ' in str)\n",
        "print('S' in str)\n",
        "print(\"ang\" in str)\n",
        "print('u' not in str)\n",
        "print('haa' not in str)\n",
        "print(\"sa\" not in str)"
      ],
      "metadata": {
        "colab": {
          "base_uri": "https://localhost:8080/"
        },
        "id": "XQOZHoTdYTxK",
        "outputId": "74789dfe-9b4a-4dc9-b66c-773a4ad516fe"
      },
      "execution_count": 103,
      "outputs": [
        {
          "output_type": "stream",
          "name": "stdout",
          "text": [
            "True\n",
            "True\n",
            "True\n",
            "False\n",
            "False\n",
            "True\n"
          ]
        }
      ]
    },
    {
      "cell_type": "markdown",
      "source": [
        "13. Implement Identity operators with examples"
      ],
      "metadata": {
        "id": "fXH9zc7mYw4x"
      }
    },
    {
      "cell_type": "code",
      "source": [
        "p=999\n",
        "q='999'\n",
        "print(p is not q)\n",
        "print(p is q)"
      ],
      "metadata": {
        "colab": {
          "base_uri": "https://localhost:8080/"
        },
        "id": "kD8o4OTLY05K",
        "outputId": "51e7bc4c-9c00-469d-b78c-e7503d931732"
      },
      "execution_count": 105,
      "outputs": [
        {
          "output_type": "stream",
          "name": "stdout",
          "text": [
            "True\n",
            "False\n"
          ]
        }
      ]
    },
    {
      "cell_type": "markdown",
      "source": [
        "14. Demonstrate Negative indexing for List and apply slicing."
      ],
      "metadata": {
        "id": "kkw_Zp3VZHmP"
      }
    },
    {
      "cell_type": "code",
      "source": [
        "Index=[99,88,77,66,55,44,33,'Suhaas']\n",
        "#slicing\n",
        "print(Index[4:])\n",
        "print(Index[:])\n",
        "print(Index[::-3])\n",
        "print(Index[-3])\n",
        "print(Index[-4])\n",
        "print(Index[-5])"
      ],
      "metadata": {
        "colab": {
          "base_uri": "https://localhost:8080/"
        },
        "id": "eW0495azZP46",
        "outputId": "987fb8d4-9f32-4110-c023-f4cbee5ff730"
      },
      "execution_count": 107,
      "outputs": [
        {
          "output_type": "stream",
          "name": "stdout",
          "text": [
            "[55, 44, 33, 'Suhaas']\n",
            "[99, 88, 77, 66, 55, 44, 33, 'Suhaas']\n",
            "['Suhaas', 55, 88]\n",
            "44\n",
            "55\n",
            "66\n"
          ]
        }
      ]
    },
    {
      "cell_type": "markdown",
      "source": [
        "15. Predict the output for the given code snippet and justify the result.\n",
        "\n",
        "print( 'A series of characters designated as one object known as a string'[::-1][4::3] )\n",
        "Here [::-1] means the string is reversing and [4::3] means string starts from 4th index with size of pointer as 3\n",
        "print(\"------------\")\n",
        "print( 'welcome to Python traing program'[3:10][::-1])\n",
        "Here [3:10] the string starts from 3rd index and stops at 10th index and it will be reversed."
      ],
      "metadata": {
        "id": "TcAVwZ50Z63-"
      }
    },
    {
      "cell_type": "code",
      "source": [
        "print( 'A series of characters designated as one object known as a string'[::-1][4::3] )\n",
        "print(\"------------\")\n",
        "print( 'welcome to Python traing program'[3:10][::-1])"
      ],
      "metadata": {
        "colab": {
          "base_uri": "https://localhost:8080/"
        },
        "id": "AE9g30kVbe5L",
        "outputId": "1d5899c4-c911-4bf8-d34d-f5f315a15ca4"
      },
      "execution_count": 108,
      "outputs": [
        {
          "output_type": "stream",
          "name": "stdout",
          "text": [
            "taawkcbe  tgestrcoeeA\n",
            "------------\n",
            "ot emoc\n"
          ]
        }
      ]
    },
    {
      "cell_type": "markdown",
      "source": [
        "16. Write a python code to get desired output\n",
        "Input string : p_phrase = \"was it a car or a cat I saw\"\n",
        "Output string : WAS I TAC A RO RAC A TI SAW"
      ],
      "metadata": {
        "id": "9vO96nM7bu17"
      }
    },
    {
      "cell_type": "code",
      "source": [
        "p_phrase=\"was it a car or a cat I saw\"\n",
        "str=p_phrase.upper()\n",
        "print(str[::-1])"
      ],
      "metadata": {
        "colab": {
          "base_uri": "https://localhost:8080/"
        },
        "id": "hzivVse2b_5A",
        "outputId": "99f28764-943b-4f1a-bfd6-29d496feb24a"
      },
      "execution_count": 109,
      "outputs": [
        {
          "output_type": "stream",
          "name": "stdout",
          "text": [
            "WAS I TAC A RO RAC A TI SAW\n"
          ]
        }
      ]
    },
    {
      "cell_type": "markdown",
      "source": [
        "17. You are required to generate a word similar to ZOO, X and Y that denote the number \n",
        "of Zs and Os respectively. The generated word similar to ZOO where Y= 2 * X. \n",
        " Input X= 2 Output ZZOOOO \n",
        " Input X= 5 Output ZZZZZOOOOOOOOOO"
      ],
      "metadata": {
        "id": "QAqGu5MwcQIq"
      }
    },
    {
      "cell_type": "code",
      "source": [
        "x=int(input(\"ENTER A VALUE=\"))\n",
        "y=2*x\n",
        "print('x=',x)\n",
        "print('y=',y)\n",
        "print('Z'*x,'O'*y,a='')\n",
        "x=int(input(\"ENTER A VALUE=\"))\n",
        "y=2*x\n",
        "print('x=',x)\n",
        "print('y=',y)\n",
        "print('Z'*x,'O'*y,a='')"
      ],
      "metadata": {
        "colab": {
          "base_uri": "https://localhost:8080/"
        },
        "id": "38dnBaCvpyt7",
        "outputId": "d6fb16b0-722d-42c8-e6d8-d61edf4b2e51"
      },
      "execution_count": 115,
      "outputs": [
        {
          "output_type": "stream",
          "name": "stdout",
          "text": [
            "ENTER A VALUE=2\n",
            "x= 2\n",
            "y= 4\n",
            "ZZOOOO\n",
            "ENTER A VALUE=5\n",
            "x= 5\n",
            "y= 10\n",
            "ZZZZZOOOOOOOOOO\n"
          ]
        }
      ]
    }
  ]
}